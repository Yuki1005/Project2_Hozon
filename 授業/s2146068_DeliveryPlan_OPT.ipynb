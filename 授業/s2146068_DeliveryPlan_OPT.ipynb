{
 "cells": [
  {
   "cell_type": "code",
   "execution_count": 10,
   "metadata": {},
   "outputs": [
    {
     "name": "stdout",
     "output_type": "stream",
     "text": [
      "[0, 1, 2, 3, 4, 5, 6, 7, 8, 9]\n",
      "[[  0. 154.  95.  28.  17. 127. 141.  50. 114. 183.]\n",
      " [154.   0. 228. 181. 155. 231. 118. 183.  43. 321.]\n",
      " [ 95. 228.   0.  90.  82. 193. 236. 122. 195.  93.]\n",
      " [ 28. 181.  90.   0.  38. 110. 153.  33. 140. 170.]\n",
      " [ 17. 155.  82.  38.   0. 144. 154.  65. 118. 173.]\n",
      " [127. 231. 193. 110. 144.   0. 140.  78. 189. 251.]\n",
      " [141. 118. 236. 153. 154. 140.   0. 132.  90. 323.]\n",
      " [ 50. 183. 122.  33.  65.  78. 132.   0. 139. 197.]\n",
      " [114.  43. 195. 140. 118. 189.  90. 139.   0. 288.]\n",
      " [183. 321.  93. 170. 173. 251. 323. 197. 288.   0.]]\n",
      "aaaaaaaaaaaa\n",
      "(10, 10)\n",
      "[0, 1, 2, 3, 4, 5, 6, 7, 8, 9, 10, 11, 12, 13, 14, 15, 16, 17, 18, 19, 20, 21, 22, 23, 24, 25, 26, 27, 28, 29]\n",
      "[2 5 3 7 8 9 9 3 1 7 8 9 2 8 2 5 1 9 6 5 8 9 9 3 7 3 9 9 7 7 6 7 1 1 7 2 9\n",
      " 2 3 9 6 1 3 8 4 1 5 3 1 4 4 2 3 6 1 2 1 2 1 3 2 2 1 1 6 1 5 7 7 1 3 4 4 3\n",
      " 7 1 6 2 4 7 6 6 2 9 1 6 9 6 8 9 6 9 2 6 2 5 8 8 8 8 7 1 4 5 5 7 9 5 3 2 2\n",
      " 7 4 5 6 5 1 3 9 1]\n",
      "7\n",
      "[55200. 55200. 27600. 36800. 87400. 50600. 41400. 59800. 50600. 46000.\n",
      " 41400. 69000. 59800. 32200. 50600. 64400. 32200. 23000. 36800. 27600.\n",
      " 50600. 41400. 27600. 69000. 41400. 59800. 50600. 50600. 55200. 46000.\n",
      " 50600. 50600. 41400. 36800. 23000. 55200. 27600. 27600. 32200. 41400.\n",
      " 59800. 27600. 73600. 64400. 32200. 55200. 36800. 55200. 78200. 50600.\n",
      " 36800. 46000. 36800. 55200. 50600. 46000. 36800. 50600. 64400. 50600.\n",
      " 59800. 50600. 59800. 46000. 36800. 41400. 64400. 50600. 50600. 59800.\n",
      " 59800. 59800. 41400. 50600. 55200. 27600. 78200. 41400. 46000. 46000.\n",
      " 64400. 50600. 32200. 50600. 64400. 41400. 59800. 36800. 46000. 64400.\n",
      " 64400. 55200. 50600. 36800. 64400. 41400. 41400. 32200. 27600. 55200.\n",
      " 55200. 46000. 50600. 46000. 59800. 41400. 50600. 41400. 59800. 27600.\n",
      " 55200. 55200. 32200. 50600. 36800. 59800. 59800. 46000. 50600. 46000.]\n",
      "36800.0\n"
     ]
    },
    {
     "name": "stderr",
     "output_type": "stream",
     "text": [
      "C:\\Users\\yhira\\AppData\\Local\\Temp\\ipykernel_18908\\4099351505.py:1: DeprecationWarning: Importing display from IPython.core.display is deprecated since IPython 7.14, please import from IPython display\n",
      "  from IPython.core.display import display\n"
     ]
    },
    {
     "data": {
      "image/png": "[encoded data removed]",
      "text/plain": [
       "<Figure size 640x480 with 1 Axes>"
      ]
     },
     "metadata": {},
     "output_type": "display_data"
    },
    {
     "data": {
      "text/plain": [
       "(array([ 0.,  0.,  0.,  0.,  2.,  9.,  7., 11., 14., 12., 22., 14., 14.,\n",
       "         9.,  2.,  1.,  2.,  0.,  1.,  0.]),\n",
       " array([   0.,  100.,  200.,  300.,  400.,  500.,  600.,  700.,  800.,\n",
       "         900., 1000., 1100., 1200., 1300., 1400., 1500., 1600., 1700.,\n",
       "        1800., 1900., 2000.]),\n",
       " <BarContainer object of 20 artists>)"
      ]
     },
     "execution_count": 10,
     "metadata": {},
     "output_type": "execute_result"
    },
    {
     "data": {
      "image/png": "[encoded data removed]",
      "text/plain": [
       "<Figure size 640x480 with 1 Axes>"
      ]
     },
     "metadata": {},
     "output_type": "display_data"
    }
   ],
   "source": [
    "from IPython.core.display import display\n",
    "import numpy as np\n",
    "import pandas as pd\n",
    "import os, sys\n",
    "import matplotlib.pyplot as plt\n",
    "import matplotlib as mpl\n",
    "import pulp\n",
    "from itertools import product, combinations_with_replacement\n",
    "from joblib import Parallel, delayed\n",
    "\n",
    "np.random.seed(10)\n",
    "num_places = 10\n",
    "num_days = 30\n",
    "num_requests = 120\n",
    "mean_travel_time_to_destinations = 100\n",
    "H_regular = 8*60\n",
    "H_max_overtime  =3*60\n",
    "c = 3000//60\n",
    "w = 4000\n",
    "delivery_outsourcing_cost = 4600\n",
    "delivery_time_window = 3\n",
    "avg_weight = 1000\n",
    "\n",
    "K = range(num_places)\n",
    "print(list(range(num_places)))\n",
    "\n",
    "o = 0\n",
    "K_minus_o = K[1:]\n",
    "_K = np.random.normal(0,mean_travel_time_to_destinations,size=(len(K),2))\n",
    "\n",
    "_K[o,:] = 0\n",
    "\n",
    "t = np.array([[np.floor(np.linalg.norm(_K[k] - _K[l])) for k in K] for l in K])\n",
    "print(t)\n",
    "print(\"aaaaaaaaaaaa\")\n",
    "print(t.shape)\n",
    "\n",
    "D = range(num_days)\n",
    "print(list(D))\n",
    "R = range(num_requests)\n",
    "k = np.random.choice(K_minus_o,size=len(R))\n",
    "print(k)\n",
    "print(k[3])\n",
    "\n",
    "d_0 = np.random.choice(D,size=len(R))\n",
    "d_1 = d_0 +delivery_time_window-1\n",
    "\n",
    "w = np.floor(np.random.gamma(10,avg_weight/10,size=len(R)))\n",
    "f = np.ceil(w/100)*delivery_outsourcing_cost\n",
    "print(f)\n",
    "print(f[3])\n",
    "\n",
    "\n",
    "a = plt.subplot()\n",
    "a.scatter(_K[1:,0],_K[1:,1],marker=\"x\")\n",
    "a.scatter(_K[0,0],_K[0,1],marker=\"o\")\n",
    "a.set_aspect(\"equal\")\n",
    "plt.show()\n",
    "plt.hist(w,bins=20,range=(0,2000))"
   ]
  },
  {
   "cell_type": "code",
   "execution_count": 3,
   "metadata": {},
   "outputs": [
    {
     "data": {
      "text/plain": [
       "range(0, 10)"
      ]
     },
     "execution_count": 3,
     "metadata": {},
     "output_type": "execute_result"
    }
   ],
   "source": [
    "range(num_places)"
   ]
  },
  {
   "cell_type": "code",
   "execution_count": null,
   "metadata": {},
   "outputs": [],
   "source": []
  }
 ],
 "metadata": {
  "kernelspec": {
   "display_name": "only-pip",
   "language": "python",
   "name": "python3"
  },
  "language_info": {
   "codemirror_mode": {
    "name": "ipython",
    "version": 3
   },
   "file_extension": ".py",
   "mimetype": "text/x-python",
   "name": "python",
   "nbconvert_exporter": "python",
   "pygments_lexer": "ipython3",
   "version": "3.11.3"
  },
  "orig_nbformat": 4
 },
 "nbformat": 4,
 "nbformat_minor": 2
}
