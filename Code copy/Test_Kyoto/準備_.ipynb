{
 "cells": [
  {
   "cell_type": "code",
   "execution_count": 7,
   "metadata": {},
   "outputs": [
    {
     "name": "stdout",
     "output_type": "stream",
     "text": [
      "京都市役所前, 御池通;二条停車場東山三条線, 六丁目, 梅屋町, 中京区, 京都市, 京都府, 604-0845, 日本\n",
      "下鴨神社, 左京区下鴨泉川59, 馬場, 下鴨森本町, 左京区, 京都市, 京都府, 606-0801, 日本\n",
      "伏見稲荷大社, 深草藪之内町, 伏見区, 京都市, 京都府, 612-0882, 日本\n",
      "清水寺, 茶わん坂, 清水一丁目, 東山区, 京都市, 京都府, 605-0862, 日本\n",
      "銀閣寺, 銀閣寺町, 左京区, 京都市, 京都府, 606-8402, 日本\n",
      "京都タワー, 烏丸地下通路, 東塩小路町, 下京区, 京都市, 京都府, 600-8216, 日本\n",
      "金閣寺, 金閣寺町, 北区, 京都市, 京都府, 603-8361, 日本\n",
      "仁和寺, 33, 御室大内, 右京区, 京都市, 京都府, 616-8092, 日本\n",
      "建仁寺, 団栗通, 祇園町南側, 東山区, 京都市, 京都府, 605-0074, 日本\n"
     ]
    }
   ],
   "source": [
    "import csv\n",
    "import folium\n",
    "import openrouteservice\n",
    "import pandas as pd\n",
    "from geopy.geocoders import Nominatim\n",
    "from branca.element import Figure\n",
    "from openrouteservice import convert\n",
    "\n",
    "\n",
    "#座標取得\n",
    "geo_list = []\n",
    "geo = pd.read_csv(\"geo_point.csv\")\n",
    "geolocator = Nominatim(user_agent=\"user-id\")\n",
    "for chimei in range(len(geo)):\n",
    "    location = geolocator.geocode(geo.iloc[chimei,0]+\",\"+geo.iloc[chimei,1])\n",
    "    print(location)\n",
    "    geo_list.append([location.address.split(\",\")[0],location.latitude, location.longitude,geo.iloc[chimei,2]])\n",
    "df_list = pd.DataFrame(geo_list, columns=[\"地名\",\"latitude\",\"longitude\",\"stay_time\"])\n",
    "df_list.to_csv(\"geo_loc_pos.csv\", index=False, encoding=\"utf_8\")\n",
    "\n",
    "\n",
    "line1 = pd.read_csv(\"geo_loc_pos.csv\")\n",
    "color_list = [\"red\",\"green\",\"purple\",\"orange\",\"darkred\",\"lightred\",\"beige\",\"darkblue\",\"darkgreen\",\"cadetblue\",\"darkpurple\",\"white\",\"pink\",\"lightblue\",\"lightgreen\",\"gray\",\"black\",\"lightgray\",\"blue\"]\n",
    "points_a = []\n",
    "for i in range(len(line1)):\n",
    "    points_a.append([line1.iloc[i,1],line1.iloc[i,2]])\n",
    "    \n",
    "\n",
    "key = \"5b3ce3597851110001cf624804ffaeec7cd246038d01eb4d3a32f633\"\n",
    "client = openrouteservice.Client(key=key)\n",
    "\n",
    "datalist = []\n",
    "\n",
    "with open(\"geo_loc_pos.csv\", encoding=\"utf_8\") as f:\n",
    "    reader = csv.reader(f)\n",
    "    line = [row for row in reader]\n",
    "\n",
    "for i in range(len(line)-2):\n",
    "    p1 = float(line[i+1][1]), float(line[i+1][2])\n",
    "    for j in range(i,len(line)-2):\n",
    "        p2 = float(line[j+2][1]), float(line[j+2][2])\n",
    "        p1r = tuple(reversed(p1))\n",
    "        p2r = tuple(reversed(p2))\n",
    "        mean_lat = (p1[0] + p2[0]) / 2\n",
    "        mean_long = (p1[1] + p2[1]) / 2\n",
    "\n",
    "        # 経路計算 (Directions V2)\n",
    "        routedict = client.directions((p1r, p2r),profile=\"foot-walking\")\n",
    "        datalist.append([i,j+1,float(routedict[\"routes\"][0][\"summary\"][\"duration\"])])\n",
    "df_list = pd.DataFrame(datalist, columns=[\"出発地点\",\"行先\",\"移動時間[s]\"])\n",
    "df_list.to_csv(\"geo_loc_loc_time.csv\", index=False, encoding=\"utf_8\")"
   ]
  }
 ],
 "metadata": {
  "kernelspec": {
   "display_name": "only-pip",
   "language": "python",
   "name": "python3"
  },
  "language_info": {
   "codemirror_mode": {
    "name": "ipython",
    "version": 3
   },
   "file_extension": ".py",
   "mimetype": "text/x-python",
   "name": "python",
   "nbconvert_exporter": "python",
   "pygments_lexer": "ipython3",
   "version": "3.11.3"
  },
  "orig_nbformat": 4
 },
 "nbformat": 4,
 "nbformat_minor": 2
}
