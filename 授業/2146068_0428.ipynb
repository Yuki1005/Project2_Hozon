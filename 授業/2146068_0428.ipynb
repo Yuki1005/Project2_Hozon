{
 "cells": [
  {
   "cell_type": "code",
   "execution_count": 16,
   "metadata": {},
   "outputs": [
    {
     "name": "stdout",
     "output_type": "stream",
     "text": [
      "問題1\n",
      "Status: Optimal\n",
      "x= 2.0 y= 8.0\n"
     ]
    }
   ],
   "source": [
    "import pulp\n",
    "pro1 = pulp.LpProblem(\"SEL\",pulp.LpMaximize)\n",
    "\n",
    "print(\"問題1\")\n",
    "\n",
    "x = pulp.LpVariable(\"x\",cat=\"Continuous\")\n",
    "y = pulp.LpVariable(\"y\",cat=\"Continuous\")\n",
    "\n",
    "pro1 += 120*x + 150*y == 1440\n",
    "pro1 += x + y == 10\n",
    "\n",
    "sta1 = pro1.solve()\n",
    "\n",
    "print(\"Status:\",pulp.LpStatus[sta1])\n",
    "print(\"x=\",x.value(),\"y=\",y.value())"
   ]
  },
  {
   "cell_type": "code",
   "execution_count": 2,
   "metadata": {},
   "outputs": [
    {
     "name": "stdout",
     "output_type": "stream",
     "text": [
      "x= 18.0 y= 4.0 obj= 26.0\n"
     ]
    }
   ],
   "source": [
    "import pulp\n",
    "pro3 = pulp.LpProblem(\"LP\",pulp.LpMaximize)\n",
    "\n",
    "x = pulp.LpVariable(\"x\",cat=\"Continuous\")\n",
    "y = pulp.LpVariable(\"y\",cat=\"Continuous\")\n",
    "\n",
    "pro3 += x + 3*y <= 30\n",
    "pro3 += 2*x + y <= 40\n",
    "pro3 += x >= 0\n",
    "pro3 += y >= 0\n",
    "\n",
    "pro3 += x + 2*y\n",
    "\n",
    "sta3 = pro3.solve()\n",
    "print(\"x=\",x.value(),\"y=\",y.value(),\"obj=\",pro3.objective.value())"
   ]
  },
  {
   "cell_type": "code",
   "execution_count": 8,
   "metadata": {},
   "outputs": [
    {
     "name": "stdout",
     "output_type": "stream",
     "text": [
      "kadai:\n",
      "MAXIMIZE\n",
      "3*x_p1 + 4*x_p2 + 4*x_p3 + 5*x_p4 + 0\n",
      "SUBJECT TO\n",
      "_C1: x_p1 >= 0\n",
      "\n",
      "_C2: x_p2 >= 0\n",
      "\n",
      "_C3: x_p3 >= 0\n",
      "\n",
      "_C4: x_p4 >= 0\n",
      "\n",
      "_C5: 2 x_p1 + 3 x_p2 + 2 x_p4 <= 35\n",
      "\n",
      "_C6: 2 x_p2 + 2 x_p3 + 2 x_p4 <= 22\n",
      "\n",
      "_C7: x_p1 + 2 x_p3 + 2 x_p4 <= 27\n",
      "\n",
      "VARIABLES\n",
      "x_p1 free Continuous\n",
      "x_p2 free Continuous\n",
      "x_p3 free Continuous\n",
      "x_p4 free Continuous\n",
      "\n",
      "Status =  Optimal\n",
      "p1 12.142857\n",
      "p2 3.5714286\n",
      "p3 7.4285714\n",
      "p4 0.0\n",
      "obj= 80.42857099999999\n"
     ]
    }
   ],
   "source": [
    "import pulp\n",
    "import pandas as pd\n",
    "import numpy as np\n",
    "pro2 = pulp.LpProblem(\"kadai\",pulp.LpMaximize)\n",
    "\n",
    "require_df = pd.read_csv(\"requires.csv\")\n",
    "stock_df = pd.read_csv(\"stocks.csv\")\n",
    "gian_df = pd.read_csv(\"gains.csv\")\n",
    "\n",
    "P = gian_df[\"p\"].tolist()\n",
    "M = stock_df[\"m\"].tolist()\n",
    "\n",
    "stock = {row.m:row.stock for row in stock_df.itertuples()}\n",
    "requires = {(row.p,row.m):row.require for row in require_df.itertuples()}\n",
    "gain = {row.p:row.gain for row in gian_df.itertuples()}\n",
    "\n",
    "x = pulp.LpVariable.dicts(\"x\",P,cat=\"Continuous\")\n",
    "\n",
    "for p in P:\n",
    "    pro2 += x[p] >= 0\n",
    "    \n",
    "for m in M:\n",
    "    pro2 += pulp.lpSum([requires[p,m]*x[p] for p in P]) <= stock[m]\n",
    "\n",
    "pro2 += pulp.lpSum([gain[p]*x[p] for p in P])\n",
    "\n",
    "print(pro2)\n",
    "\n",
    "sta2 = pro2.solve()\n",
    "print(\"Status = \",pulp.LpStatus[sta2])\n",
    "\n",
    "for p in P:\n",
    "    print(p,x[p].value())\n",
    "print(\"obj=\",pro2.objective.value())"
   ]
  },
  {
   "cell_type": "code",
   "execution_count": 21,
   "metadata": {},
   "outputs": [
    {
     "name": "stdout",
     "output_type": "stream",
     "text": [
      "問題2\n",
      "Status: Optimal\n",
      "x= 18.0 y= 5.0\n"
     ]
    }
   ],
   "source": [
    "import pulp\n",
    "pro4 = pulp.LpProblem(\"kadai\",pulp.LpMaximize)\n",
    "\n",
    "print(\"問題2\")\n",
    "\n",
    "x = pulp.LpVariable(\"x\",cat=\"Continuous\")\n",
    "y = pulp.LpVariable(\"y\",cat=\"Continuous\")\n",
    "\n",
    "pro4 += x - 4*y == -2\n",
    "pro4 += 2*x - 7*y == 1\n",
    "\n",
    "sta4 = pro4.solve()\n",
    "\n",
    "print(\"Status:\",pulp.LpStatus[sta4])\n",
    "print(\"x=\",x.value(),\"y=\",y.value())"
   ]
  },
  {
   "cell_type": "code",
   "execution_count": 25,
   "metadata": {},
   "outputs": [
    {
     "name": "stdout",
     "output_type": "stream",
     "text": [
      "問題3\n",
      "ハンバーグ= 30.0 オムレツ= 50.0 売り上げ= 27000.0\n"
     ]
    }
   ],
   "source": [
    "import pulp\n",
    "pro5 = pulp.LpProblem(\"kadai\",pulp.LpMaximize)\n",
    "\n",
    "print(\"問題3\")\n",
    "\n",
    "x = pulp.LpVariable(\"x\",cat=\"Continuous\")\n",
    "y = pulp.LpVariable(\"y\",cat=\"Continuous\")\n",
    "\n",
    "pro5 += 60*x + 40*y <= 3800\n",
    "pro5 += 20*x + 30*y <= 2100\n",
    "pro5 += 20*x + 10*y <= 1200\n",
    "pro5 += x >= 0\n",
    "pro5 += y >= 0\n",
    "\n",
    "pro5 += 400*x +300*y\n",
    "\n",
    "sta5 = pro5.solve()\n",
    "print(\"ハンバーグ=\",x.value(),\"オムレツ=\",y.value(),\"売り上げ=\",pro5.objective.value())"
   ]
  },
  {
   "cell_type": "code",
   "execution_count": 48,
   "metadata": {},
   "outputs": [
    {
     "name": "stdout",
     "output_type": "stream",
     "text": [
      "問題4\n",
      "トマト= 2.0 人参= 0.0 ほうれん草= 1.0 原価費= 1800.0\n"
     ]
    }
   ],
   "source": [
    "import pulp\n",
    "import pandas as pd\n",
    "import numpy as np\n",
    "import csv\n",
    "\n",
    "with open(\"vegetable.csv\", encoding=\"utf_8\") as f:\n",
    "    reader = csv.reader(f)\n",
    "    vegetable_dayo = [row for row in reader]\n",
    "\n",
    "pro6 = pulp.LpProblem(\"kadai\",pulp.LpMinimize)\n",
    "\n",
    "print(\"問題4\")\n",
    "\n",
    "x = pulp.LpVariable(\"x\",cat=\"Integer\")\n",
    "y = pulp.LpVariable(\"y\",cat=\"Integer\")\n",
    "z = pulp.LpVariable(\"z\",cat=\"Integer\")\n",
    "\n",
    "for i in range(4):\n",
    "    pro6 += int(vegetable_dayo[i+1][1])*x + int(vegetable_dayo[i+1][2])*y + int(vegetable_dayo[1+i][3])*z >= int(vegetable_dayo[i+1][4])\n",
    "pro6 += int(vegetable_dayo[5][1])*x + int(vegetable_dayo[5][2])*y + int(vegetable_dayo[5][3])*z\n",
    "\n",
    "\n",
    "sta6 = pro6.solve()\n",
    "print(\"トマト=\",x.value(),\"人参=\",y.value(),\"ほうれん草=\",z.value(),\"原価費=\",pro6.objective.value())"
   ]
  }
 ],
 "metadata": {
  "kernelspec": {
   "display_name": "only-pip",
   "language": "python",
   "name": "python3"
  },
  "language_info": {
   "codemirror_mode": {
    "name": "ipython",
    "version": 3
   },
   "file_extension": ".py",
   "mimetype": "text/x-python",
   "name": "python",
   "nbconvert_exporter": "python",
   "pygments_lexer": "ipython3",
   "version": "3.11.3"
  },
  "orig_nbformat": 4
 },
 "nbformat": 4,
 "nbformat_minor": 2
}
